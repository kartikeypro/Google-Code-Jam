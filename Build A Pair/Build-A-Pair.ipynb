{
 "cells": [
  {
   "cell_type": "code",
   "execution_count": 12,
   "id": "4760c1a7",
   "metadata": {},
   "outputs": [],
   "source": [
    "def convert_int_to_array(number):\n",
    "    b = str(number)\n",
    "    array = []\n",
    "    for i in b:\n",
    "        array.append(int(i))\n",
    "    return array"
   ]
  },
  {
   "cell_type": "code",
   "execution_count": 13,
   "id": "546a7fac",
   "metadata": {},
   "outputs": [],
   "source": [
    "def choose_significant_digits(choice, function=lambda x: x!=0):\n",
    "    choose = list(filter(function,choice))\n",
    "    diff = {}\n",
    "    if(len(choose)==1):\n",
    "        return [0,choose[0]]\n",
    "    for i in range(len(choose)-1):\n",
    "        c = choice.copy() # This is to update the choices left for each pair of significant number\n",
    "        pair =(choose[i+1],choose[i])\n",
    "        sub = choose[i+1] - choose[i]\n",
    "        c.remove(choose[i+1])\n",
    "        c.remove(choose[i])\n",
    "        diff[pair] = (sub,c)\n",
    "    temp = min(value[0] for value in diff.values())\n",
    "    pairs = [pair for pair in diff if diff[pair][0]==temp]\n",
    "    return pairs"
   ]
  },
  {
   "cell_type": "code",
   "execution_count": 14,
   "id": "e5efef95",
   "metadata": {},
   "outputs": [],
   "source": [
    "def add_and_compare(pair, choices,toll=1):\n",
    "    a1 = pair[0]\n",
    "    a2 = pair[1]\n",
    "    if(len(choices)==0):\n",
    "        return pair\n",
    "    elif(len(choices)==1):\n",
    "        a1 = int(str(a1)+str(choices[0]))\n",
    "        return (a2,a1)\n",
    "    else:\n",
    "        toll+=1\n",
    "        a1 = int(str(a1)+str(choices[-1]))\n",
    "        a2 = int(str(a2)+str(choices[0]))\n",
    "        if(toll == 2):\n",
    "            a1_mirror = int(str(choices[-1])+str(pair[0]))\n",
    "            a1 = a1_mirror if abs(a2-a1_mirror)<abs(a2-a1) else a1\n",
    "            a2_mirror = int(str(choices[0])+str(pair[1]))\n",
    "            a2 = a2_mirror if abs(a2_mirror-a1)<abs(a2-a1) else a2\n",
    "        choices.pop(-1)\n",
    "        choices.pop(0)\n",
    "        pair = (a1,a2)\n",
    "        return add_and_compare(sorted(pair),choices, toll)"
   ]
  },
  {
   "cell_type": "code",
   "execution_count": 17,
   "id": "f68e3f56",
   "metadata": {},
   "outputs": [],
   "source": [
    "def find_difference(T):\n",
    "    choice = convert_int_to_array(T)\n",
    "    choice.sort()\n",
    "    pairs = choose_significant_digits(choice)\n",
    "    choose = list(filter(lambda x: x!=0,choice))\n",
    "    if 0 in pairs:\n",
    "        return pairs[1]-pairs[0]\n",
    "#    print(\"Pairs sent to recursive function: \",pairs)\n",
    "    elif(len(choice)%2!=0 and len(choose)>1):       \n",
    "        choice_copy = choice.copy()\n",
    "        a1 = choose.pop(-1)\n",
    "        a2 = choose.pop(0)\n",
    "        choice_copy.remove(a1)\n",
    "        choice_copy.remove(a2)\n",
    "        small_index = int(len(choice)/2)-1\n",
    "        large_index = int(len(choice)/2)\n",
    "        a_1 = choice_copy[-small_index:]\n",
    "        a_2 = choice_copy[:large_index]\n",
    "        a1 = str(a1)\n",
    "        a2 = str(a2)\n",
    "        for i in a_1:\n",
    "            a1 += str(i)\n",
    "        a1 = int(a1)\n",
    "        for i in a_2:\n",
    "            a2 += str(i)\n",
    "        a2 = int(a2)\n",
    "        branch_pairs = (a1,a2)\n",
    "        diff = a2-a1\n",
    "        return branch_pairs,diff\n",
    "    else:\n",
    "        branch_pairs = []\n",
    "        for a,b in pairs:\n",
    "            choice_update = choice.copy()\n",
    "            choice_update.remove(a)\n",
    "            choice_update.remove(b)\n",
    "            pair = add_and_compare(sorted((a,b)),choice_update)\n",
    "            branch_pairs.append(sorted(pair))\n",
    "        difference = []\n",
    "        for i in branch_pairs:\n",
    "            diff = i[1]-i[0]\n",
    "            difference.append(diff)\n",
    "        return branch_pairs,min(difference)"
   ]
  },
  {
   "cell_type": "code",
   "execution_count": 19,
   "id": "cd1644d8",
   "metadata": {
    "scrolled": false
   },
   "outputs": [
    {
     "name": "stdout",
     "output_type": "stream",
     "text": [
      "1\n",
      "32333\n",
      "Case #1 ((33, 233), 200)\n"
     ]
    }
   ],
   "source": [
    "T = int(input())\n",
    "for i in range(T):\n",
    "    t = input()\n",
    "    try:\n",
    "        diff= find_difference(t)\n",
    "    except:\n",
    "        diff = 0\n",
    "    print(\"Case #\"+str(i+1),diff)"
   ]
  },
  {
   "cell_type": "code",
   "execution_count": 7,
   "id": "e23d75fa",
   "metadata": {},
   "outputs": [],
   "source": [
    "a = [1,2,3,4,5]"
   ]
  },
  {
   "cell_type": "code",
   "execution_count": 8,
   "id": "771ad920",
   "metadata": {},
   "outputs": [
    {
     "data": {
      "text/plain": [
       "[4, 5]"
      ]
     },
     "execution_count": 8,
     "metadata": {},
     "output_type": "execute_result"
    }
   ],
   "source": [
    "a[-2:]"
   ]
  },
  {
   "cell_type": "code",
   "execution_count": null,
   "id": "33ab9339",
   "metadata": {},
   "outputs": [],
   "source": []
  }
 ],
 "metadata": {
  "kernelspec": {
   "display_name": "Python 3",
   "language": "python",
   "name": "python3"
  },
  "language_info": {
   "codemirror_mode": {
    "name": "ipython",
    "version": 3
   },
   "file_extension": ".py",
   "mimetype": "text/x-python",
   "name": "python",
   "nbconvert_exporter": "python",
   "pygments_lexer": "ipython3",
   "version": "3.8.8"
  }
 },
 "nbformat": 4,
 "nbformat_minor": 5
}
