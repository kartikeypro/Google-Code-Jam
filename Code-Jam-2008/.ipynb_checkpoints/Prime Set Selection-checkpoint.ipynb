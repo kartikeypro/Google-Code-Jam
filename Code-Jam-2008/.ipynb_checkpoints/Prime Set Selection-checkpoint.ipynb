{
 "cells": [
  {
   "cell_type": "code",
   "execution_count": 1,
   "id": "b59c4354",
   "metadata": {},
   "outputs": [],
   "source": [
    "def identifyPrimeSet(superSets):\n",
    "    a = superSets.copy()\n",
    "    final_array = [] # Array containing \n",
    "    for i in a:\n",
    "        array = []\n",
    "        for j in i:\n",
    "            for k in j:\n",
    "                array.append(k)\n",
    "        if not ifDuplicate(array):\n",
    "            final_array.append(array)\n",
    "    return final_array"
   ]
  },
  {
   "cell_type": "code",
   "execution_count": null,
   "id": "ba6cb00c",
   "metadata": {},
   "outputs": [],
   "source": [
    "def showFactors(array):\n",
    "    "
   ]
  }
 ],
 "metadata": {
  "kernelspec": {
   "display_name": "Python 3",
   "language": "python",
   "name": "python3"
  },
  "language_info": {
   "codemirror_mode": {
    "name": "ipython",
    "version": 3
   },
   "file_extension": ".py",
   "mimetype": "text/x-python",
   "name": "python",
   "nbconvert_exporter": "python",
   "pygments_lexer": "ipython3",
   "version": "3.8.8"
  }
 },
 "nbformat": 4,
 "nbformat_minor": 5
}
