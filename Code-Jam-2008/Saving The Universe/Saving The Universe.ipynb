{
 "cells": [
  {
   "cell_type": "markdown",
   "id": "9a757ce6",
   "metadata": {},
   "source": [
    "# Input\n",
    "The first line of the input file contains the number of cases, N. N test cases follow.\n",
    "Each case starts with the number S -- the number of search engines. The next S lines each contain the name of a search engine. Each search engine name is no more than one hundred characters long and contains only uppercase letters, lowercase letters, spaces, and numbers. There will not be two search engines with the same name.\n",
    "The following line contains a number Q -- the number of incoming queries. The next Q lines will each contain a query. Each query will be the name of a search engine in the case."
   ]
  },
  {
   "cell_type": "markdown",
   "id": "5ccf06db",
   "metadata": {},
   "source": [
    "# Output\n",
    "For each input case, you should output:\n",
    "Case #X: Y\n",
    "where X is the number of the test case and Y is the number of search engine switches. Do not count the initial choice of a search engine as a switch."
   ]
  },
  {
   "cell_type": "code",
   "execution_count": 97,
   "id": "07c53c52",
   "metadata": {},
   "outputs": [],
   "source": [
    "def no_of_switches(q,s):\n",
    "    #Q : List containing queries\n",
    "    #S : List containing search engines\n",
    "    \"\"\"\n",
    "    For the sake of simplicity we are going to consider only numerical S and Q's for now.\n",
    "    \"\"\"\n",
    "    counter = initialise_counter(s)\n",
    "    search_only_query = list(filter(lambda x: x in s,q))\n",
    "    count_switch = 0\n",
    "    loop_count = 0\n",
    "    for i in search_only_query:\n",
    "        loop_count += 1\n",
    "        counter[i]+=1\n",
    "        bool_value = 0 in list(counter.values())\n",
    "#       print(counter,i,bool_value)\n",
    "        if (not bool_value):\n",
    "#            print(loop_count,len(search_only_query)-1)\n",
    "            if(not (loop_count == len(search_only_query))):\n",
    "                count_switch +=1\n",
    "            counter = initialise_counter(s)\n",
    "    \n",
    "    return count_switch"
   ]
  },
  {
   "cell_type": "code",
   "execution_count": 98,
   "id": "ab05c077",
   "metadata": {},
   "outputs": [],
   "source": [
    "def initialise_counter(s):\n",
    "    counter = {}\n",
    "    for i in s:\n",
    "        counter[i] = 0\n",
    "    return counter"
   ]
  },
  {
   "cell_type": "code",
   "execution_count": 106,
   "id": "7092c73a",
   "metadata": {
    "scrolled": false
   },
   "outputs": [
    {
     "name": "stdout",
     "output_type": "stream",
     "text": [
      "1\n",
      "3\n",
      "google\n",
      "yahoo\n",
      "bing\n",
      "4\n",
      "google\n",
      "yahoo\n",
      "bing\n",
      "googler\n",
      "['google', 'yahoo', 'bing', 'googler']\n",
      "Case #0: 0\n"
     ]
    }
   ],
   "source": [
    "n = int(input())\n",
    "for i in range(n):\n",
    "    n_s = int(input())\n",
    "    s = []\n",
    "    q = []\n",
    "    for j in range(n_s):\n",
    "        take_s_input = str(input())\n",
    "        if (take_s_input not in s) and (len(take_s_input)<=100 and ):\n",
    "            s.append(take_s_input)\n",
    "        else:\n",
    "            j-=1\n",
    "    n_q = int(input())\n",
    "    for k in range(n_q):\n",
    "        take_q_input = str(input())\n",
    "        q.append(take_q_input)\n",
    "    print(\"Case #\"+ str(i)+\":\", no_of_switches(q,s))"
   ]
  },
  {
   "cell_type": "code",
   "execution_count": 91,
   "id": "b5151c23",
   "metadata": {
    "scrolled": true
   },
   "outputs": [
    {
     "name": "stdout",
     "output_type": "stream",
     "text": [
      "{'Google': 1, 'Yahoo': 0, 'Bing': 0} Google True\n",
      "{'Google': 1, 'Yahoo': 1, 'Bing': 0} Yahoo True\n",
      "{'Google': 1, 'Yahoo': 1, 'Bing': 1} Bing False\n",
      "{'Google': 1, 'Yahoo': 0, 'Bing': 0} Google True\n",
      "{'Google': 1, 'Yahoo': 1, 'Bing': 0} Yahoo True\n",
      "{'Google': 1, 'Yahoo': 1, 'Bing': 1} Bing False\n"
     ]
    },
    {
     "data": {
      "text/plain": [
       "1"
      ]
     },
     "execution_count": 91,
     "metadata": {},
     "output_type": "execute_result"
    }
   ],
   "source": [
    "no_of_switches([\"Google\",\"Yahoo\",\"Bing\",\"Googler\",\"Google\",\"Yahoo\",\"Bing\"],[\"Google\",\"Yahoo\",\"Bing\"])"
   ]
  },
  {
   "cell_type": "code",
   "execution_count": null,
   "id": "aef51793",
   "metadata": {},
   "outputs": [],
   "source": []
  }
 ],
 "metadata": {
  "kernelspec": {
   "display_name": "Python 3",
   "language": "python",
   "name": "python3"
  },
  "language_info": {
   "codemirror_mode": {
    "name": "ipython",
    "version": 3
   },
   "file_extension": ".py",
   "mimetype": "text/x-python",
   "name": "python",
   "nbconvert_exporter": "python",
   "pygments_lexer": "ipython3",
   "version": "3.8.8"
  }
 },
 "nbformat": 4,
 "nbformat_minor": 5
}
